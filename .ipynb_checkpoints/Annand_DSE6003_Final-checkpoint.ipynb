{
 "cells": [
  {
   "cell_type": "markdown",
   "id": "78fc01e3",
   "metadata": {},
   "source": [
    "# DSE6003 Final Project Supplemental Code\n",
    "## Joseph Annand\n",
    "## 10/20/2023"
   ]
  },
  {
   "cell_type": "markdown",
   "id": "ef6bb7c5",
   "metadata": {},
   "source": [
    "Import pandas and dataset. To ensure data quality, any NA values are removed from the dataset. A separate dataframe with only the five quasi-identifiers is created to focus on de-identification efforts."
   ]
  },
  {
   "cell_type": "code",
   "execution_count": 1,
   "id": "bbe43e59",
   "metadata": {},
   "outputs": [],
   "source": [
    "import pandas as pd\n",
    "\n",
    "data = pd.read_excel(\"Merr.Customer.Survey (2).xlsx\")\n",
    "data.dropna()\n",
    "\n",
    "quasi_data = data.iloc[:, ['Region', 'Gender', 'Age', 'EducationYears', 'HouseholdIncome']]"
   ]
  },
  {
   "cell_type": "markdown",
   "id": "46cf59fc",
   "metadata": {},
   "source": [
    "A variety of functions were created in order to de-idnetify quasi-identifiers by converting values into ranges of values. This is done for Age, Household Income, Education Years, and Region."
   ]
  },
  {
   "cell_type": "code",
   "execution_count": 2,
   "id": "e7a3b93f",
   "metadata": {},
   "outputs": [],
   "source": [
    "def de_id_age(value):\n",
    "    if value >= 18 and value < 26:\n",
    "        return \"18-25\"\n",
    "    elif value >= 26 and value < 35:\n",
    "        return \"26-34\"\n",
    "    elif value >= 35 and value < 45:\n",
    "        return \"35-44\"\n",
    "    elif value >= 45 and value < 55:\n",
    "        return \"45-54\"\n",
    "    elif value >= 55 and value < 65:\n",
    "        return \"55-64\"\n",
    "    elif value >= 65 and value < 75:\n",
    "        return \"65-74\"\n",
    "    elif value >= 75:\n",
    "        return \"75+\"\n",
    "    \n",
    "\n",
    "def de_id_income(value):\n",
    "    if value <= 30:\n",
    "        return \"0-30000\"\n",
    "    elif value > 30 and value <= 80:\n",
    "        return \"30001-80000\"\n",
    "    elif value > 80 and value <= 120:\n",
    "        return \"80001-120000\"\n",
    "    elif value > 120:\n",
    "        return \"120001+\"\n",
    "    \n",
    "    \n",
    "def de_id_education(value):\n",
    "    if value < 11:\n",
    "        return \"0-11\"\n",
    "    elif value > 11 and value <= 15:\n",
    "        return \"12-15\"\n",
    "    elif value > 15 and value <= 19:\n",
    "        return \"16-19\"\n",
    "    elif value > 19:\n",
    "        return \"20-23\"\n",
    "\n",
    "\n",
    "def de_id_region(value):\n",
    "    if value >= 1 and value <=3:\n",
    "        return \"1-3\"\n",
    "    elif value > 3:\n",
    "        return \"4-5\"\n",
    "\n"
   ]
  },
  {
   "cell_type": "markdown",
   "id": "96eeace7",
   "metadata": {},
   "source": [
    "New columns were created in the data frame to reflect the new generalized values for the quasi-identifiers that would be used in creating equivalence classes."
   ]
  },
  {
   "cell_type": "code",
   "execution_count": 3,
   "id": "13944525",
   "metadata": {},
   "outputs": [
    {
     "name": "stderr",
     "output_type": "stream",
     "text": [
      "C:\\Users\\janna\\AppData\\Local\\Temp\\ipykernel_28120\\3279607735.py:1: SettingWithCopyWarning: \n",
      "A value is trying to be set on a copy of a slice from a DataFrame.\n",
      "Try using .loc[row_indexer,col_indexer] = value instead\n",
      "\n",
      "See the caveats in the documentation: https://pandas.pydata.org/pandas-docs/stable/user_guide/indexing.html#returning-a-view-versus-a-copy\n",
      "  quasi_data['age_de_id'] = quasi_data['Age'].map(de_id_age)\n",
      "C:\\Users\\janna\\AppData\\Local\\Temp\\ipykernel_28120\\3279607735.py:2: SettingWithCopyWarning: \n",
      "A value is trying to be set on a copy of a slice from a DataFrame.\n",
      "Try using .loc[row_indexer,col_indexer] = value instead\n",
      "\n",
      "See the caveats in the documentation: https://pandas.pydata.org/pandas-docs/stable/user_guide/indexing.html#returning-a-view-versus-a-copy\n",
      "  quasi_data['income_de_id'] = quasi_data['HouseholdIncome'].map(de_id_income)\n",
      "C:\\Users\\janna\\AppData\\Local\\Temp\\ipykernel_28120\\3279607735.py:3: SettingWithCopyWarning: \n",
      "A value is trying to be set on a copy of a slice from a DataFrame.\n",
      "Try using .loc[row_indexer,col_indexer] = value instead\n",
      "\n",
      "See the caveats in the documentation: https://pandas.pydata.org/pandas-docs/stable/user_guide/indexing.html#returning-a-view-versus-a-copy\n",
      "  quasi_data['edu_de_id'] = quasi_data['EducationYears'].map(de_id_education)\n",
      "C:\\Users\\janna\\AppData\\Local\\Temp\\ipykernel_28120\\3279607735.py:4: SettingWithCopyWarning: \n",
      "A value is trying to be set on a copy of a slice from a DataFrame.\n",
      "Try using .loc[row_indexer,col_indexer] = value instead\n",
      "\n",
      "See the caveats in the documentation: https://pandas.pydata.org/pandas-docs/stable/user_guide/indexing.html#returning-a-view-versus-a-copy\n",
      "  quasi_data['region_de_id'] = quasi_data['Region'].map(de_id_region)\n"
     ]
    }
   ],
   "source": [
    "quasi_data['age_de_id'] = quasi_data['Age'].map(de_id_age)\n",
    "quasi_data['income_de_id'] = quasi_data['HouseholdIncome'].map(de_id_income)\n",
    "quasi_data['edu_de_id'] = quasi_data['EducationYears'].map(de_id_education)\n",
    "quasi_data['region_de_id'] = quasi_data['Region'].map(de_id_region)"
   ]
  },
  {
   "cell_type": "markdown",
   "id": "61015081",
   "metadata": {},
   "source": [
    "Initialize variables that are equal to or used in calculating the probabilities of each re-identification action ocurring."
   ]
  },
  {
   "cell_type": "code",
   "execution_count": 4,
   "id": "e7543a6a",
   "metadata": {},
   "outputs": [],
   "source": [
    "# Probability of attempt based on Verizon DBIR - 83% are from external adversaries\n",
    "pr_attempt = 1 - 0.83\n",
    "\n",
    "# Number of customers with Merrimac Communications before sale\n",
    "merr_customers = 6000\n",
    "# U.S. Adult Population\n",
    "us_pop = 260836730\n",
    "\n",
    "# Probability of an analyst knowing someone in the data set\n",
    "pr_acquaintance = 1 - ((1-(merr_customers/us_pop))**150)\n",
    "\n",
    "# Probability of a data breach is 60% for large companies\n",
    "pr_breach = 0.60"
   ]
  },
  {
   "cell_type": "markdown",
   "id": "f0931c5c",
   "metadata": {},
   "source": [
    "A dataframe of all the equivalence classes is created. Each equivalence class has the same combination of all five quasi-identifiers."
   ]
  },
  {
   "cell_type": "code",
   "execution_count": 5,
   "id": "29dc6f52",
   "metadata": {},
   "outputs": [],
   "source": [
    "# Create dataframe of equivalence classes\n",
    "eq_classes = quasi_data.groupby(['age_de_id', 'Gender', 'region_de_id', 'edu_de_id', 'income_de_id']).size().reset_index()\n",
    "eq_classes.rename(columns = {0: \"count\"}, inplace=True)\n",
    "eq_classes['pr_re_id'] = 1 / eq_classes['count']"
   ]
  },
  {
   "cell_type": "markdown",
   "id": "4d831ced",
   "metadata": {},
   "source": [
    "The risk for each scenario is calculated for each equivalence class and added to the data frame."
   ]
  },
  {
   "cell_type": "code",
   "execution_count": 6,
   "id": "4f56b02d",
   "metadata": {},
   "outputs": [],
   "source": [
    "# Calculate Pr(re-id) for all four scenarios\n",
    "eq_classes['scenario_1'] = pr_attempt * eq_classes['pr_re_id']\n",
    "eq_classes['scenario_2'] = pr_acquaintance * eq_classes['pr_re_id']\n",
    "eq_classes['scenario_3'] = pr_breach * eq_classes['pr_re_id']\n",
    "eq_classes['scenario_4'] = 1.00 * eq_classes['pr_re_id']"
   ]
  },
  {
   "cell_type": "markdown",
   "id": "60a4a208",
   "metadata": {},
   "source": [
    "A function to assign each equivalence a range of re-identification risk it falls into."
   ]
  },
  {
   "cell_type": "code",
   "execution_count": 7,
   "id": "75ebe31d",
   "metadata": {},
   "outputs": [],
   "source": [
    "def determine_risk_range(value):\n",
    "    if value < 0.05:\n",
    "        return \"<5%\"\n",
    "    elif value >= 0.05 and value < 0.10:\n",
    "        return \"<10%\"\n",
    "    elif value >= 0.10 and value < 0.20:\n",
    "        return \"<20%\"\n",
    "    elif value >= 0.20 and value < 0.33:\n",
    "        return \"<33%\"\n",
    "    elif value >= 0.33 and value < 0.5:\n",
    "        return \"<50%\"\n",
    "    elif value >= 0.5:\n",
    "        return \">50%\""
   ]
  },
  {
   "cell_type": "markdown",
   "id": "9e6040da",
   "metadata": {},
   "source": [
    "We apply the function to determine thr risk range to the equivalence class data frame."
   ]
  },
  {
   "cell_type": "code",
   "execution_count": 8,
   "id": "a205b65d",
   "metadata": {},
   "outputs": [],
   "source": [
    "# Calculate risk for each equivalence class for each scenario\n",
    "eq_classes['s1.risk'] = eq_classes['scenario_1'].map(determine_risk_range)\n",
    "eq_classes['s2.risk'] = eq_classes['scenario_2'].map(determine_risk_range)\n",
    "eq_classes['s3.risk'] = eq_classes['scenario_3'].map(determine_risk_range)\n",
    "eq_classes['s4.risk'] = eq_classes['scenario_4'].map(determine_risk_range)"
   ]
  },
  {
   "cell_type": "markdown",
   "id": "80baaeb0",
   "metadata": {},
   "source": [
    "We determine the distrubtion of risk across each equivalence for each scenario."
   ]
  },
  {
   "cell_type": "code",
   "execution_count": 9,
   "id": "db1d031e",
   "metadata": {},
   "outputs": [
    {
     "name": "stdout",
     "output_type": "stream",
     "text": [
      "  s1.risk  count  percentage\n",
      "0    <10%     66    0.176471\n",
      "1    <20%     51    0.136364\n",
      "2     <5%    257    0.687166\n",
      "  s2.risk  count  percentage\n",
      "0     <5%    374         1.0\n",
      "  s3.risk  count  percentage\n",
      "0    <10%     82    0.219251\n",
      "1    <20%     74    0.197861\n",
      "2    <33%     36    0.096257\n",
      "3     <5%    131    0.350267\n",
      "4    >50%     51    0.136364\n",
      "  s4.risk  count  percentage\n",
      "0    <10%     86    0.229947\n",
      "1    <20%     68    0.181818\n",
      "2    <33%     44    0.117647\n",
      "3     <5%     59    0.157754\n",
      "4    <50%     30    0.080214\n",
      "5    >50%     87    0.232620\n"
     ]
    }
   ],
   "source": [
    "s1_prob = eq_classes.groupby('s1.risk').size().reset_index()\n",
    "s1_prob.rename(columns ={0: \"count\"}, inplace=True)\n",
    "s1_prob['percentage'] = s1_prob['count'] / s1_prob['count'].sum()\n",
    "print(s1_prob)\n",
    "\n",
    "s2_prob = eq_classes.groupby('s2.risk').size().reset_index()\n",
    "s2_prob.rename(columns ={0: \"count\"}, inplace=True)\n",
    "s2_prob['percentage'] = s2_prob['count'] / s2_prob['count'].sum()\n",
    "print(s2_prob)\n",
    "\n",
    "s3_prob = eq_classes.groupby('s3.risk').size().reset_index()\n",
    "s3_prob.rename(columns ={0: \"count\"}, inplace=True)\n",
    "s3_prob['percentage'] = s3_prob['count'] / s3_prob['count'].sum()\n",
    "print(s3_prob)\n",
    "\n",
    "s4_prob = eq_classes.groupby('s4.risk').size().reset_index()\n",
    "s4_prob.rename(columns ={0: \"count\"}, inplace=True)\n",
    "s4_prob['percentage'] = s4_prob['count'] / s4_prob['count'].sum()\n",
    "print(s4_prob)"
   ]
  },
  {
   "cell_type": "markdown",
   "id": "905cc34b",
   "metadata": {},
   "source": [
    "The maximum, average, and median risk was calculated for each scenario. Average risk is the same across all scenarios because all scenarios use the same number of equivalence classes and include the same total number of records."
   ]
  },
  {
   "cell_type": "code",
   "execution_count": 12,
   "id": "82d0a8af",
   "metadata": {},
   "outputs": [
    {
     "name": "stdout",
     "output_type": "stream",
     "text": [
      "Scenario 1:\n",
      "0.17000000000000004\n",
      "0.02428571428571429\n",
      "Scenario 2:\n",
      "0.0034445279415022956\n",
      "0.0004920754202146137\n",
      "Scenario 3:\n",
      "0.6\n",
      "0.0857142857142857\n",
      "Scenario 4:\n",
      "1.0\n",
      "0.14285714285714285\n",
      "Average Risk\n"
     ]
    },
    {
     "data": {
      "text/plain": [
       "0.0748"
      ]
     },
     "execution_count": 12,
     "metadata": {},
     "output_type": "execute_result"
    }
   ],
   "source": [
    "# Scenario 1\n",
    "print(\"Scenario 1:\")\n",
    "print(eq_classes['scenario_1'].max())\n",
    "print(eq_classes['scenario_1'].median())\n",
    "\n",
    "# Scenario 2\n",
    "print(\"Scenario 2:\")\n",
    "print(eq_classes['scenario_2'].max())\n",
    "print(eq_classes['scenario_2'].median())\n",
    "\n",
    "# Scenario 3\n",
    "print(\"Scenario 3:\")\n",
    "print(eq_classes['scenario_3'].max())\n",
    "print(eq_classes['scenario_3'].median())\n",
    "\n",
    "# Scenario 4\n",
    "print(\"Scenario 4:\")\n",
    "print(eq_classes['scenario_4'].max())\n",
    "print(eq_classes['scenario_4'].median())\n",
    "\n",
    "#Average risk across scenarios\n",
    "print(\"Average Risk\")\n",
    "len(eq_classes) / len(data)"
   ]
  },
  {
   "cell_type": "code",
   "execution_count": null,
   "id": "9c1eb6e5",
   "metadata": {},
   "outputs": [],
   "source": []
  }
 ],
 "metadata": {
  "kernelspec": {
   "display_name": "Python 3 (ipykernel)",
   "language": "python",
   "name": "python3"
  },
  "language_info": {
   "codemirror_mode": {
    "name": "ipython",
    "version": 3
   },
   "file_extension": ".py",
   "mimetype": "text/x-python",
   "name": "python",
   "nbconvert_exporter": "python",
   "pygments_lexer": "ipython3",
   "version": "3.9.17"
  }
 },
 "nbformat": 4,
 "nbformat_minor": 5
}
